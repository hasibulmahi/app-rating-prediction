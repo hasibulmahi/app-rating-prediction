{
  "cells": [
    {
      "cell_type": "markdown",
      "source": [
        "# **Importing Libraries and Data**"
      ],
      "metadata": {
        "id": "Lujx5XJG8UGR"
      }
    },
    {
      "cell_type": "code",
      "execution_count": null,
      "metadata": {
        "colab": {
          "base_uri": "https://localhost:8080/"
        },
        "id": "3S1AksMqB1nE",
        "outputId": "e6211610-d68b-4a32-be51-78d6224c5f63"
      },
      "outputs": [
        {
          "output_type": "stream",
          "name": "stdout",
          "text": [
            "Collecting pyspark\n",
            "  Downloading pyspark-3.4.1.tar.gz (310.8 MB)\n",
            "\u001b[2K     \u001b[90m━━━━━━━━━━━━━━━━━━━━━━━━━━━━━━━━━━━━━━━\u001b[0m \u001b[32m310.8/310.8 MB\u001b[0m \u001b[31m5.0 MB/s\u001b[0m eta \u001b[36m0:00:00\u001b[0m\n",
            "\u001b[?25h  Preparing metadata (setup.py) ... \u001b[?25l\u001b[?25hdone\n",
            "Requirement already satisfied: py4j==0.10.9.7 in /usr/local/lib/python3.10/dist-packages (from pyspark) (0.10.9.7)\n",
            "Building wheels for collected packages: pyspark\n",
            "  Building wheel for pyspark (setup.py) ... \u001b[?25l\u001b[?25hdone\n",
            "  Created wheel for pyspark: filename=pyspark-3.4.1-py2.py3-none-any.whl size=311285387 sha256=bf22ed024338d0d0d192a43fbe45762e6815d46b75ccbe00a2cd246c1ccb5dfc\n",
            "  Stored in directory: /root/.cache/pip/wheels/0d/77/a3/ff2f74cc9ab41f8f594dabf0579c2a7c6de920d584206e0834\n",
            "Successfully built pyspark\n",
            "Installing collected packages: pyspark\n",
            "Successfully installed pyspark-3.4.1\n"
          ]
        }
      ],
      "source": [
        "!pip install pyspark\n"
      ]
    },
    {
      "cell_type": "code",
      "execution_count": null,
      "metadata": {
        "colab": {
          "base_uri": "https://localhost:8080/"
        },
        "id": "OhcWaI-QHim4",
        "outputId": "328a22e2-9907-49e1-f7cd-f55ae561bfa1"
      },
      "outputs": [
        {
          "output_type": "stream",
          "name": "stdout",
          "text": [
            "Mounted at /content/drive\n"
          ]
        }
      ],
      "source": [
        "from google.colab import drive\n",
        "drive.mount('/content/drive')"
      ]
    },
    {
      "cell_type": "code",
      "execution_count": null,
      "metadata": {
        "id": "6HUkBW9VNwKO"
      },
      "outputs": [],
      "source": [
        "from pyspark.sql import SparkSession\n",
        "from pyspark.ml.regression import LinearRegression\n",
        "from pyspark.ml.feature import VectorAssembler\n",
        "from pyspark.ml.evaluation import RegressionEvaluator"
      ]
    },
    {
      "cell_type": "code",
      "execution_count": null,
      "metadata": {
        "id": "NHuqAWTKN6nJ"
      },
      "outputs": [],
      "source": [
        "spark = SparkSession.builder.appName(\"playstore\").getOrCreate()\n"
      ]
    },
    {
      "cell_type": "code",
      "execution_count": null,
      "metadata": {
        "id": "0-2j-eMzJdQk"
      },
      "outputs": [],
      "source": [
        "data=spark.read.option('header','true').csv('/content/drive/MyDrive/big data and iot/Dataset/Playstore_final.csv')"
      ]
    },
    {
      "cell_type": "code",
      "execution_count": null,
      "metadata": {
        "colab": {
          "base_uri": "https://localhost:8080/"
        },
        "id": "cjJF0m52DnBT",
        "outputId": "9888466b-89a1-4ff8-f1cc-817ecdc2bcd6"
      },
      "outputs": [
        {
          "output_type": "stream",
          "name": "stdout",
          "text": [
            "+--------------------+--------------------+----------------+------------+--------------------+-------------------+----------------+----+-----+--------+----+---------------+-------------------+--------------------+--------------------+------------+-----------------+--------------------+--------------+------------+----------------+-------------+--------------------+-------+--------------------+------------+--------------------+---------------------+-------+\n",
            "|            App Name|              App Id|        Category|      Rating|        Rating Count|           Installs|Minimum Installs|Free|Price|Currency|Size|Minimum Android|       Developer Id|   Developer Website|     Developer Email|    Released|      Last update|      Privacy Policy|Content Rating|Ad Supported|In app purchases|Editor Choice|             Summary|Reviews|Android version Text|   Developer|   Developer Address|Developer Internal ID|Version|\n",
            "+--------------------+--------------------+----------------+------------+--------------------+-------------------+----------------+----+-----+--------+----+---------------+-------------------+--------------------+--------------------+------------+-----------------+--------------------+--------------+------------+----------------+-------------+--------------------+-------+--------------------+------------+--------------------+---------------------+-------+\n",
            "|Logistics Management|com.eniseistudio....|       Education|    4.090909|                  66|            10,000+|           10000|TRUE|    0|     USD|5.8M|              4|4656446977926344285|                 N/A|eniseistudio@gmai...|Jul 19, 2017|    July 19, 2017|                 N/A|      Everyone|        TRUE|           FALSE|        FALSE|Leading Online Le...|     28|          4.0 and up|eniseistudio|7115 N Muscatel A...|  4656446977926344285|  1.1.5|\n",
            "|Estados Unidos No...|com.eniseistudio....|News & Magazines|           4|                   8|             1,000+|            1000|TRUE|    0|     USD|5.3M|              4|4656446977926344285|                 N/A|eniseistudio@gmai...| May 5, 2017|      May 5, 2017|                 N/A|      Everyone|        TRUE|           FALSE|        FALSE|         Top Stories|   null|                null|        null|                null|                 null|   null|\n",
            "|               World|                null|            null|        null|                null|               null|            null|null| null|    null|null|           null|               null|                null|                null|        null|             null|                null|          null|        null|            null|         null|                null|   null|                null|        null|                null|                 null|   null|\n",
            "|       Entertainment|                null|            null|        null|                null|               null|            null|null| null|    null|null|           null|               null|                null|                null|        null|             null|                null|          null|        null|            null|         null|                null|   null|                null|        null|                null|                 null|   null|\n",
            "|               Sport|                null|            null|        null|                null|               null|            null|null| null|    null|null|           null|               null|                null|                null|        null|             null|                null|          null|        null|            null|         null|                null|   null|                null|        null|                null|                 null|   null|\n",
            "|              Travel|                null|            null|        null|                null|               null|            null|null| null|    null|null|           null|               null|                null|                null|        null|             null|                null|          null|        null|            null|         null|                null|   null|                null|        null|                null|                 null|   null|\n",
            "|          Technology|                null|            null|        null|                null|               null|            null|null| null|    null|null|           null|               null|                null|                null|        null|             null|                null|          null|        null|            null|         null|                null|   null|                null|        null|                null|                 null|   null|\n",
            "|              Health|                null|            null|        null|                null|               null|            null|null| null|    null|null|           null|               null|                null|                null|        null|             null|                null|          null|        null|            null|         null|                null|   null|                null|        null|                null|                 null|   null|\n",
            "|            Business|                null|            null|        null|                null|               null|            null|null| null|    null|null|           null|               null|                null|                null|        null|             null|                null|          null|        null|            null|         null|                null|   null|                null|        null|                null|                 null|   null|\n",
            "|             Photos\"|                   3|      4.0 and up|eniseistudio|7115 N Muscatel A...|4656446977926344285|           1.2.3|null| null|    null|null|           null|               null|                null|                null|        null|             null|                null|          null|        null|            null|         null|                null|   null|                null|        null|                null|                 null|   null|\n",
            "|    Dental Assistant|com.eniseistudio....|       Education|   3.8666666|                  15|            10,000+|           10000|TRUE|    0|     USD|5.7M|              4|4656446977926344285|                 N/A|eniseistudio@gmai...|Jul 18, 2017|    July 18, 2017|                 N/A|      Everyone|        TRUE|           FALSE|        FALSE|Dental Assistant:...|      3|          4.0 and up|eniseistudio|7115 N Muscatel A...|  4656446977926344285|  1.1.5|\n",
            "|   Medical Assistant|com.eniseistudio....|       Education|           4|                  18|             5,000+|            5000|TRUE|    0|     USD|5.8M|              4|4656446977926344285|                 N/A|eniseistudio@gmai...|Jun 24, 2017|    June 24, 2017|                 N/A|      Everyone|        TRUE|           FALSE|        FALSE|Medical Assistant...|      7|          4.0 and up|eniseistudio|7115 N Muscatel A...|  4656446977926344285|  1.1.4|\n",
            "|Business Administ...|com.eniseistudio....|       Education|    4.023256|                  86|            50,000+|           50000|TRUE|    0|     USD|5.7M|              4|4656446977926344285|                 N/A|eniseistudio@gmai...|Jun 13, 2017|  October 6, 2017|                 N/A|      Everyone|        TRUE|           FALSE|        FALSE|Business Administ...|     29|          4.0 and up|eniseistudio|7115 N Muscatel A...|  4656446977926344285|  1.1.6|\n",
            "|           Economics|com.eniseistudio....|       Education|   4.1386137|                 223|           100,000+|          100000|TRUE|    0|     USD|5.9M|              4|4656446977926344285|                 N/A|eniseistudio@gmai...|Jul 16, 2017|    July 16, 2017|                 N/A|      Everyone|        TRUE|           FALSE|        FALSE|Economics: Study ...|     82|          4.0 and up|eniseistudio|7115 N Muscatel A...|  4656446977926344285|  1.1.5|\n",
            "|         Cosmetology|com.eniseistudio....|       Education|   2.4210527|                  19|             5,000+|            5000|TRUE|    0|     USD|5.7M|              4|4656446977926344285|                 N/A|eniseistudio@gmai...|Jun 25, 2017|    June 25, 2017|                 N/A|      Everyone|        TRUE|           FALSE|        FALSE|Learn Cosmetology...|     12|          4.0 and up|eniseistudio|7115 N Muscatel A...|  4656446977926344285|  1.1.4|\n",
            "|        Learn Python|    com.jquiz.python|       Education|           0|                 N/A|                10+|              10|TRUE|    0|     USD|9.3M|            4.1|4656446977926344285|                 N/A|eniseistudio@gmai...|Nov 23, 2019|November 23, 2019|                 N/A|      Everyone|        TRUE|           FALSE|        FALSE|Learn, practice a...|      0|          4.1 and up|eniseistudio|7115 N Muscatel A...|  4656446977926344285|      6|\n",
            "|  Quality Management|com.eniseistudio....|       Education|   4.3333335|                   6|             5,000+|            5000|TRUE|    0|     USD|5.6M|              4|4656446977926344285|                 N/A|eniseistudio@gmai...| Oct 6, 2017|  October 6, 2017|                 N/A|      Everyone|        TRUE|           FALSE|        FALSE|Quality Managemen...|      2|          4.0 and up|eniseistudio|7115 N Muscatel A...|  4656446977926344285|  1.1.6|\n",
            "|  Tourism Management|com.eniseistudio....|       Education|    4.730769|                  26|            10,000+|           10000|TRUE|    0|     USD|5.9M|              4|4656446977926344285|                 N/A|eniseistudio@gmai...| Oct 6, 2017|  October 6, 2017|                 N/A|      Everyone|        TRUE|           FALSE|        FALSE|Tourism Managemen...|      8|          4.0 and up|eniseistudio|7115 N Muscatel A...|  4656446977926344285|  1.1.6|\n",
            "|Early Learning Ap...|education.kids.le...|       Education|    4.271845|                 846|           500,000+|          500000|TRUE|    0|     USD| 27M|            4.1|7415446147207133288|https://blank-b13...|rishabh.cse12@gma...|Aug 27, 2019|     June 4, 2020|https://sites.goo...|      Everyone|        TRUE|            TRUE|        FALSE|Kids Piano, Music...|    502|          4.1 and up| Early Learn|                  CA|  7415446147207133288|    2.7|\n",
            "|Early Learning Ap...|earlylearn.kidsle...|       Education|   4.3849316|                7214|         1,000,000+|         1000000|TRUE|    0|     USD|8.9M|              5|7415446147207133288|https://blank-b13...|rishabh.cse12@gma...|Jun 15, 2019|   April 20, 2021|https://sites.goo...|      Everyone|        TRUE|           FALSE|        FALSE|Kids Learning Gam...|   1624|          5.0 and up| Early Learn|                  CA|  7415446147207133288|    5.8|\n",
            "+--------------------+--------------------+----------------+------------+--------------------+-------------------+----------------+----+-----+--------+----+---------------+-------------------+--------------------+--------------------+------------+-----------------+--------------------+--------------+------------+----------------+-------------+--------------------+-------+--------------------+------------+--------------------+---------------------+-------+\n",
            "only showing top 20 rows\n",
            "\n"
          ]
        }
      ],
      "source": [
        "data.show()"
      ]
    },
    {
      "cell_type": "code",
      "execution_count": null,
      "metadata": {
        "id": "oPxEtHp2D2l7"
      },
      "outputs": [],
      "source": [
        "# drop coloums(App id, Developer id,Developer Website,Released,Last update,Summary,Developer Address,Developer Internal ID)\n",
        "data_drop=data.drop('App Id','Developer Id','Developer Website','Developer','Developer Email','Version','Privacy Policy','Released','Version','Android version Text','Last update','Summary','Developer Address','Developer Internal ID')"
      ]
    },
    {
      "cell_type": "code",
      "execution_count": null,
      "metadata": {
        "colab": {
          "base_uri": "https://localhost:8080/"
        },
        "id": "0NN7pkNNOZkT",
        "outputId": "4cd43af9-7a36-49cd-fa96-45e1adc15c96"
      },
      "outputs": [
        {
          "output_type": "stream",
          "name": "stdout",
          "text": [
            "+--------------------+----------------+------------+--------------------+-------------------+----------------+----+-----+--------+----+---------------+--------------+------------+----------------+-------------+-------+\n",
            "|            App Name|        Category|      Rating|        Rating Count|           Installs|Minimum Installs|Free|Price|Currency|Size|Minimum Android|Content Rating|Ad Supported|In app purchases|Editor Choice|Reviews|\n",
            "+--------------------+----------------+------------+--------------------+-------------------+----------------+----+-----+--------+----+---------------+--------------+------------+----------------+-------------+-------+\n",
            "|Logistics Management|       Education|    4.090909|                  66|            10,000+|           10000|TRUE|    0|     USD|5.8M|              4|      Everyone|        TRUE|           FALSE|        FALSE|     28|\n",
            "|Estados Unidos No...|News & Magazines|           4|                   8|             1,000+|            1000|TRUE|    0|     USD|5.3M|              4|      Everyone|        TRUE|           FALSE|        FALSE|   null|\n",
            "|               World|            null|        null|                null|               null|            null|null| null|    null|null|           null|          null|        null|            null|         null|   null|\n",
            "|       Entertainment|            null|        null|                null|               null|            null|null| null|    null|null|           null|          null|        null|            null|         null|   null|\n",
            "|               Sport|            null|        null|                null|               null|            null|null| null|    null|null|           null|          null|        null|            null|         null|   null|\n",
            "|              Travel|            null|        null|                null|               null|            null|null| null|    null|null|           null|          null|        null|            null|         null|   null|\n",
            "|          Technology|            null|        null|                null|               null|            null|null| null|    null|null|           null|          null|        null|            null|         null|   null|\n",
            "|              Health|            null|        null|                null|               null|            null|null| null|    null|null|           null|          null|        null|            null|         null|   null|\n",
            "|            Business|            null|        null|                null|               null|            null|null| null|    null|null|           null|          null|        null|            null|         null|   null|\n",
            "|             Photos\"|      4.0 and up|eniseistudio|7115 N Muscatel A...|4656446977926344285|           1.2.3|null| null|    null|null|           null|          null|        null|            null|         null|   null|\n",
            "|    Dental Assistant|       Education|   3.8666666|                  15|            10,000+|           10000|TRUE|    0|     USD|5.7M|              4|      Everyone|        TRUE|           FALSE|        FALSE|      3|\n",
            "|   Medical Assistant|       Education|           4|                  18|             5,000+|            5000|TRUE|    0|     USD|5.8M|              4|      Everyone|        TRUE|           FALSE|        FALSE|      7|\n",
            "|Business Administ...|       Education|    4.023256|                  86|            50,000+|           50000|TRUE|    0|     USD|5.7M|              4|      Everyone|        TRUE|           FALSE|        FALSE|     29|\n",
            "|           Economics|       Education|   4.1386137|                 223|           100,000+|          100000|TRUE|    0|     USD|5.9M|              4|      Everyone|        TRUE|           FALSE|        FALSE|     82|\n",
            "|         Cosmetology|       Education|   2.4210527|                  19|             5,000+|            5000|TRUE|    0|     USD|5.7M|              4|      Everyone|        TRUE|           FALSE|        FALSE|     12|\n",
            "|        Learn Python|       Education|           0|                 N/A|                10+|              10|TRUE|    0|     USD|9.3M|            4.1|      Everyone|        TRUE|           FALSE|        FALSE|      0|\n",
            "|  Quality Management|       Education|   4.3333335|                   6|             5,000+|            5000|TRUE|    0|     USD|5.6M|              4|      Everyone|        TRUE|           FALSE|        FALSE|      2|\n",
            "|  Tourism Management|       Education|    4.730769|                  26|            10,000+|           10000|TRUE|    0|     USD|5.9M|              4|      Everyone|        TRUE|           FALSE|        FALSE|      8|\n",
            "|Early Learning Ap...|       Education|    4.271845|                 846|           500,000+|          500000|TRUE|    0|     USD| 27M|            4.1|      Everyone|        TRUE|            TRUE|        FALSE|    502|\n",
            "|Early Learning Ap...|       Education|   4.3849316|                7214|         1,000,000+|         1000000|TRUE|    0|     USD|8.9M|              5|      Everyone|        TRUE|           FALSE|        FALSE|   1624|\n",
            "+--------------------+----------------+------------+--------------------+-------------------+----------------+----+-----+--------+----+---------------+--------------+------------+----------------+-------------+-------+\n",
            "only showing top 20 rows\n",
            "\n"
          ]
        }
      ],
      "source": [
        "data_drop.show()"
      ]
    },
    {
      "cell_type": "markdown",
      "source": [
        "# **Dataset Preprocessing**"
      ],
      "metadata": {
        "id": "MPTuLz1g9O-4"
      }
    },
    {
      "cell_type": "code",
      "execution_count": null,
      "metadata": {
        "colab": {
          "base_uri": "https://localhost:8080/"
        },
        "id": "UOovHTQAER91",
        "outputId": "dd83a112-e93b-4d30-cfed-58b914ac9345"
      },
      "outputs": [
        {
          "output_type": "stream",
          "name": "stdout",
          "text": [
            "Column 'App Name': 41 null values\n",
            "Column 'Category': 139023 null values\n",
            "Column 'Rating': 225328 null values\n",
            "Column 'Rating Count': 255566 null values\n",
            "Column 'Installs': 261580 null values\n",
            "Column 'Minimum Installs': 262590 null values\n",
            "Column 'Free': 268718 null values\n",
            "Column 'Price': 269552 null values\n",
            "Column 'Currency': 269792 null values\n",
            "Column 'Size': 269925 null values\n",
            "Column 'Minimum Android': 270003 null values\n",
            "Column 'Content Rating': 270016 null values\n",
            "Column 'Ad Supported': 270016 null values\n",
            "Column 'In app purchases': 270016 null values\n",
            "Column 'Editor Choice': 270016 null values\n",
            "Column 'Reviews': 278787 null values\n"
          ]
        }
      ],
      "source": [
        "from pyspark.sql.functions import col, sum\n",
        "\n",
        "# Count null values in each column\n",
        "for column in data_drop.columns:\n",
        "    null_count = data.filter(col(column).isNull()).count()\n",
        "    print(f\"Column '{column}': {null_count} null values\")"
      ]
    },
    {
      "cell_type": "code",
      "execution_count": null,
      "metadata": {
        "colab": {
          "base_uri": "https://localhost:8080/"
        },
        "id": "2xYKQFu1R2s8",
        "outputId": "caedeb3e-1ffe-4797-d46c-120a1f8299c7"
      },
      "outputs": [
        {
          "output_type": "stream",
          "name": "stdout",
          "text": [
            "Column 'App Name': 0 null values\n",
            "Column 'App Id': 0 null values\n",
            "Column 'Category': 0 null values\n",
            "Column 'Rating': 0 null values\n",
            "Column 'Rating Count': 0 null values\n",
            "Column 'Installs': 0 null values\n",
            "Column 'Minimum Installs': 0 null values\n",
            "Column 'Free': 0 null values\n",
            "Column 'Price': 0 null values\n",
            "Column 'Currency': 0 null values\n",
            "Column 'Size': 0 null values\n",
            "Column 'Minimum Android': 0 null values\n",
            "Column 'Developer Id': 2 null values\n",
            "Column 'Developer Website': 0 null values\n",
            "Column 'Developer Email': 0 null values\n",
            "Column 'Released': 0 null values\n",
            "Column 'Last update': 0 null values\n",
            "Column 'Privacy Policy': 0 null values\n",
            "Column 'Content Rating': 0 null values\n",
            "Column 'Ad Supported': 0 null values\n",
            "Column 'In app purchases': 0 null values\n",
            "Column 'Editor Choice': 0 null values\n",
            "Column 'Summary': 186 null values\n",
            "Column 'Reviews': 0 null values\n",
            "Column 'Android version Text': 1078 null values\n",
            "Column 'Developer': 30 null values\n",
            "Column 'Developer Address': 32 null values\n",
            "Column 'Developer Internal ID': 122825 null values\n",
            "Column 'Version': 123011 null values\n"
          ]
        }
      ],
      "source": [
        "# Drop rows with null values\n",
        "data_null_removed = data_drop.dropna()\n",
        "\n",
        "# Verify the null value counts after dropping rows\n",
        "for column in data.columns:\n",
        "    null_count = data_null_removed.filter(col(column).isNull()).count()\n",
        "    print(f\"Column '{column}': {null_count} null values\")\n"
      ]
    },
    {
      "cell_type": "code",
      "source": [
        "data_null_removed.show()"
      ],
      "metadata": {
        "colab": {
          "base_uri": "https://localhost:8080/"
        },
        "id": "FwvX9raTNi8F",
        "outputId": "839dc859-e83f-4da5-f3ee-638f26951702"
      },
      "execution_count": null,
      "outputs": [
        {
          "output_type": "stream",
          "name": "stdout",
          "text": [
            "+--------------------+----------------+---------+------------+----------+----------------+-----+-----+--------+----+---------------+--------------+------------+----------------+-------------+-------+\n",
            "|            App Name|        Category|   Rating|Rating Count|  Installs|Minimum Installs| Free|Price|Currency|Size|Minimum Android|Content Rating|Ad Supported|In app purchases|Editor Choice|Reviews|\n",
            "+--------------------+----------------+---------+------------+----------+----------------+-----+-----+--------+----+---------------+--------------+------------+----------------+-------------+-------+\n",
            "|Logistics Management|       Education| 4.090909|          66|   10,000+|           10000| TRUE|    0|     USD|5.8M|              4|      Everyone|        TRUE|           FALSE|        FALSE|     28|\n",
            "|    Dental Assistant|       Education|3.8666666|          15|   10,000+|           10000| TRUE|    0|     USD|5.7M|              4|      Everyone|        TRUE|           FALSE|        FALSE|      3|\n",
            "|   Medical Assistant|       Education|        4|          18|    5,000+|            5000| TRUE|    0|     USD|5.8M|              4|      Everyone|        TRUE|           FALSE|        FALSE|      7|\n",
            "|Business Administ...|       Education| 4.023256|          86|   50,000+|           50000| TRUE|    0|     USD|5.7M|              4|      Everyone|        TRUE|           FALSE|        FALSE|     29|\n",
            "|           Economics|       Education|4.1386137|         223|  100,000+|          100000| TRUE|    0|     USD|5.9M|              4|      Everyone|        TRUE|           FALSE|        FALSE|     82|\n",
            "|         Cosmetology|       Education|2.4210527|          19|    5,000+|            5000| TRUE|    0|     USD|5.7M|              4|      Everyone|        TRUE|           FALSE|        FALSE|     12|\n",
            "|        Learn Python|       Education|        0|         N/A|       10+|              10| TRUE|    0|     USD|9.3M|            4.1|      Everyone|        TRUE|           FALSE|        FALSE|      0|\n",
            "|  Quality Management|       Education|4.3333335|           6|    5,000+|            5000| TRUE|    0|     USD|5.6M|              4|      Everyone|        TRUE|           FALSE|        FALSE|      2|\n",
            "|  Tourism Management|       Education| 4.730769|          26|   10,000+|           10000| TRUE|    0|     USD|5.9M|              4|      Everyone|        TRUE|           FALSE|        FALSE|      8|\n",
            "|Early Learning Ap...|       Education| 4.271845|         846|  500,000+|          500000| TRUE|    0|     USD| 27M|            4.1|      Everyone|        TRUE|            TRUE|        FALSE|    502|\n",
            "|Early Learning Ap...|       Education|4.3849316|        7214|1,000,000+|         1000000| TRUE|    0|     USD|8.9M|              5|      Everyone|        TRUE|           FALSE|        FALSE|   1624|\n",
            "|   Desert Runner Boy|       Adventure|4.5882354|         111|   10,000+|           10000| TRUE|    0|     USD|6.8M|            4.1|      Everyone|        TRUE|           FALSE|        FALSE|     70|\n",
            "|ABC Kids - Alphab...|     Educational|        0|         N/A|   10,000+|           10000| TRUE|    0|     USD| 21M|            4.1|      Everyone|        TRUE|            TRUE|        FALSE|      0|\n",
            "|Kids Word Games: ...|     Educational|        5|           6|    1,000+|            1000| TRUE|    0|     USD| 13M|            4.1|      Everyone|        TRUE|           FALSE|        FALSE|      2|\n",
            "|Early Learning fo...|       Education|        0|         N/A|        5+|               5|FALSE| 6.49|     USD|7.0M|              5|      Everyone|         N/A|           FALSE|        FALSE|      0|\n",
            "|Word Link: Word C...|     Educational|4.5882354|          17|    1,000+|            1000| TRUE|    0|     USD| 19M|            4.1|      Everyone|        TRUE|            TRUE|        FALSE|      8|\n",
            "|      Math Kids Game|     Educational|        5|          11|    1,000+|            1000| TRUE|    0|     USD| 25M|            4.4|      Everyone|         N/A|           FALSE|        FALSE|      3|\n",
            "|Best Time to Get ...|Health & Fitness|4.0526314|          38|   50,000+|           50000| TRUE|    0|     USD|6.5M|              5|          Teen|        TRUE|           FALSE|        FALSE|     10|\n",
            "|Communication in ...|       Lifestyle|      4.2|          20|   10,000+|           10000| TRUE|    0|     USD|6.7M|            4.4|          Teen|        TRUE|           FALSE|        FALSE|      5|\n",
            "|SMOOTH PICK UP LINES|          Dating|        4|           8|    5,000+|            5000| TRUE|    0|     USD|7.2M|            4.4|          Teen|        TRUE|           FALSE|        FALSE|      2|\n",
            "+--------------------+----------------+---------+------------+----------+----------------+-----+-----+--------+----+---------------+--------------+------------+----------------+-------------+-------+\n",
            "only showing top 20 rows\n",
            "\n"
          ]
        }
      ]
    },
    {
      "cell_type": "markdown",
      "source": [
        "**Remove Installs rowa + and ,**"
      ],
      "metadata": {
        "id": "1VSalTic9i5H"
      }
    },
    {
      "cell_type": "code",
      "source": [
        "from pyspark.sql.functions import col, regexp_replace\n",
        "\n",
        "# Assuming 'data' is your PySpark DataFrame and 'Installs' is the column you want to clean\n",
        "data_regexp_replace = data_null_removed.withColumn(\"Installs\", regexp_replace(col(\"Installs\"), \"[+,]\", \"\"))\n",
        "data_regexp_replace.show()\n"
      ],
      "metadata": {
        "colab": {
          "base_uri": "https://localhost:8080/"
        },
        "id": "vsNRpw8GObE0",
        "outputId": "e5a01244-ef3b-4923-bf9f-9fdd65ffd495"
      },
      "execution_count": null,
      "outputs": [
        {
          "output_type": "stream",
          "name": "stdout",
          "text": [
            "+--------------------+----------------+---------+------------+--------+----------------+-----+-----+--------+----+---------------+--------------+------------+----------------+-------------+-------+\n",
            "|            App Name|        Category|   Rating|Rating Count|Installs|Minimum Installs| Free|Price|Currency|Size|Minimum Android|Content Rating|Ad Supported|In app purchases|Editor Choice|Reviews|\n",
            "+--------------------+----------------+---------+------------+--------+----------------+-----+-----+--------+----+---------------+--------------+------------+----------------+-------------+-------+\n",
            "|Logistics Management|       Education| 4.090909|          66|   10000|           10000| TRUE|    0|     USD|5.8M|              4|      Everyone|        TRUE|           FALSE|        FALSE|     28|\n",
            "|    Dental Assistant|       Education|3.8666666|          15|   10000|           10000| TRUE|    0|     USD|5.7M|              4|      Everyone|        TRUE|           FALSE|        FALSE|      3|\n",
            "|   Medical Assistant|       Education|        4|          18|    5000|            5000| TRUE|    0|     USD|5.8M|              4|      Everyone|        TRUE|           FALSE|        FALSE|      7|\n",
            "|Business Administ...|       Education| 4.023256|          86|   50000|           50000| TRUE|    0|     USD|5.7M|              4|      Everyone|        TRUE|           FALSE|        FALSE|     29|\n",
            "|           Economics|       Education|4.1386137|         223|  100000|          100000| TRUE|    0|     USD|5.9M|              4|      Everyone|        TRUE|           FALSE|        FALSE|     82|\n",
            "|         Cosmetology|       Education|2.4210527|          19|    5000|            5000| TRUE|    0|     USD|5.7M|              4|      Everyone|        TRUE|           FALSE|        FALSE|     12|\n",
            "|        Learn Python|       Education|        0|         N/A|      10|              10| TRUE|    0|     USD|9.3M|            4.1|      Everyone|        TRUE|           FALSE|        FALSE|      0|\n",
            "|  Quality Management|       Education|4.3333335|           6|    5000|            5000| TRUE|    0|     USD|5.6M|              4|      Everyone|        TRUE|           FALSE|        FALSE|      2|\n",
            "|  Tourism Management|       Education| 4.730769|          26|   10000|           10000| TRUE|    0|     USD|5.9M|              4|      Everyone|        TRUE|           FALSE|        FALSE|      8|\n",
            "|Early Learning Ap...|       Education| 4.271845|         846|  500000|          500000| TRUE|    0|     USD| 27M|            4.1|      Everyone|        TRUE|            TRUE|        FALSE|    502|\n",
            "|Early Learning Ap...|       Education|4.3849316|        7214| 1000000|         1000000| TRUE|    0|     USD|8.9M|              5|      Everyone|        TRUE|           FALSE|        FALSE|   1624|\n",
            "|   Desert Runner Boy|       Adventure|4.5882354|         111|   10000|           10000| TRUE|    0|     USD|6.8M|            4.1|      Everyone|        TRUE|           FALSE|        FALSE|     70|\n",
            "|ABC Kids - Alphab...|     Educational|        0|         N/A|   10000|           10000| TRUE|    0|     USD| 21M|            4.1|      Everyone|        TRUE|            TRUE|        FALSE|      0|\n",
            "|Kids Word Games: ...|     Educational|        5|           6|    1000|            1000| TRUE|    0|     USD| 13M|            4.1|      Everyone|        TRUE|           FALSE|        FALSE|      2|\n",
            "|Early Learning fo...|       Education|        0|         N/A|       5|               5|FALSE| 6.49|     USD|7.0M|              5|      Everyone|         N/A|           FALSE|        FALSE|      0|\n",
            "|Word Link: Word C...|     Educational|4.5882354|          17|    1000|            1000| TRUE|    0|     USD| 19M|            4.1|      Everyone|        TRUE|            TRUE|        FALSE|      8|\n",
            "|      Math Kids Game|     Educational|        5|          11|    1000|            1000| TRUE|    0|     USD| 25M|            4.4|      Everyone|         N/A|           FALSE|        FALSE|      3|\n",
            "|Best Time to Get ...|Health & Fitness|4.0526314|          38|   50000|           50000| TRUE|    0|     USD|6.5M|              5|          Teen|        TRUE|           FALSE|        FALSE|     10|\n",
            "|Communication in ...|       Lifestyle|      4.2|          20|   10000|           10000| TRUE|    0|     USD|6.7M|            4.4|          Teen|        TRUE|           FALSE|        FALSE|      5|\n",
            "|SMOOTH PICK UP LINES|          Dating|        4|           8|    5000|            5000| TRUE|    0|     USD|7.2M|            4.4|          Teen|        TRUE|           FALSE|        FALSE|      2|\n",
            "+--------------------+----------------+---------+------------+--------+----------------+-----+-----+--------+----+---------------+--------------+------------+----------------+-------------+-------+\n",
            "only showing top 20 rows\n",
            "\n"
          ]
        }
      ]
    },
    {
      "cell_type": "markdown",
      "source": [
        "**Remove size coloumn M form the data**"
      ],
      "metadata": {
        "id": "KylEjlcJ92hm"
      }
    },
    {
      "cell_type": "code",
      "source": [
        "from pyspark.sql.functions import col, regexp_replace\n",
        "\n",
        "# Assuming 'data' is your PySpark DataFrame and 'Size' is the column you want to clean\n",
        "data_regexp_replace2 = data_regexp_replace.withColumn(\"Size\", regexp_replace(col(\"Size\"), \"M\", \"\"))\n",
        "\n",
        "data_regexp_replace2.show()"
      ],
      "metadata": {
        "colab": {
          "base_uri": "https://localhost:8080/"
        },
        "id": "FBnCTMduQn7g",
        "outputId": "8a712b38-afb0-4700-b125-eedb3f944f2e"
      },
      "execution_count": null,
      "outputs": [
        {
          "output_type": "stream",
          "name": "stdout",
          "text": [
            "+--------------------+----------------+---------+------------+--------+----------------+-----+-----+--------+----+---------------+--------------+------------+----------------+-------------+-------+\n",
            "|            App Name|        Category|   Rating|Rating Count|Installs|Minimum Installs| Free|Price|Currency|Size|Minimum Android|Content Rating|Ad Supported|In app purchases|Editor Choice|Reviews|\n",
            "+--------------------+----------------+---------+------------+--------+----------------+-----+-----+--------+----+---------------+--------------+------------+----------------+-------------+-------+\n",
            "|Logistics Management|       Education| 4.090909|          66|   10000|           10000| TRUE|    0|     USD| 5.8|              4|      Everyone|        TRUE|           FALSE|        FALSE|     28|\n",
            "|    Dental Assistant|       Education|3.8666666|          15|   10000|           10000| TRUE|    0|     USD| 5.7|              4|      Everyone|        TRUE|           FALSE|        FALSE|      3|\n",
            "|   Medical Assistant|       Education|        4|          18|    5000|            5000| TRUE|    0|     USD| 5.8|              4|      Everyone|        TRUE|           FALSE|        FALSE|      7|\n",
            "|Business Administ...|       Education| 4.023256|          86|   50000|           50000| TRUE|    0|     USD| 5.7|              4|      Everyone|        TRUE|           FALSE|        FALSE|     29|\n",
            "|           Economics|       Education|4.1386137|         223|  100000|          100000| TRUE|    0|     USD| 5.9|              4|      Everyone|        TRUE|           FALSE|        FALSE|     82|\n",
            "|         Cosmetology|       Education|2.4210527|          19|    5000|            5000| TRUE|    0|     USD| 5.7|              4|      Everyone|        TRUE|           FALSE|        FALSE|     12|\n",
            "|        Learn Python|       Education|        0|         N/A|      10|              10| TRUE|    0|     USD| 9.3|            4.1|      Everyone|        TRUE|           FALSE|        FALSE|      0|\n",
            "|  Quality Management|       Education|4.3333335|           6|    5000|            5000| TRUE|    0|     USD| 5.6|              4|      Everyone|        TRUE|           FALSE|        FALSE|      2|\n",
            "|  Tourism Management|       Education| 4.730769|          26|   10000|           10000| TRUE|    0|     USD| 5.9|              4|      Everyone|        TRUE|           FALSE|        FALSE|      8|\n",
            "|Early Learning Ap...|       Education| 4.271845|         846|  500000|          500000| TRUE|    0|     USD|  27|            4.1|      Everyone|        TRUE|            TRUE|        FALSE|    502|\n",
            "|Early Learning Ap...|       Education|4.3849316|        7214| 1000000|         1000000| TRUE|    0|     USD| 8.9|              5|      Everyone|        TRUE|           FALSE|        FALSE|   1624|\n",
            "|   Desert Runner Boy|       Adventure|4.5882354|         111|   10000|           10000| TRUE|    0|     USD| 6.8|            4.1|      Everyone|        TRUE|           FALSE|        FALSE|     70|\n",
            "|ABC Kids - Alphab...|     Educational|        0|         N/A|   10000|           10000| TRUE|    0|     USD|  21|            4.1|      Everyone|        TRUE|            TRUE|        FALSE|      0|\n",
            "|Kids Word Games: ...|     Educational|        5|           6|    1000|            1000| TRUE|    0|     USD|  13|            4.1|      Everyone|        TRUE|           FALSE|        FALSE|      2|\n",
            "|Early Learning fo...|       Education|        0|         N/A|       5|               5|FALSE| 6.49|     USD| 7.0|              5|      Everyone|         N/A|           FALSE|        FALSE|      0|\n",
            "|Word Link: Word C...|     Educational|4.5882354|          17|    1000|            1000| TRUE|    0|     USD|  19|            4.1|      Everyone|        TRUE|            TRUE|        FALSE|      8|\n",
            "|      Math Kids Game|     Educational|        5|          11|    1000|            1000| TRUE|    0|     USD|  25|            4.4|      Everyone|         N/A|           FALSE|        FALSE|      3|\n",
            "|Best Time to Get ...|Health & Fitness|4.0526314|          38|   50000|           50000| TRUE|    0|     USD| 6.5|              5|          Teen|        TRUE|           FALSE|        FALSE|     10|\n",
            "|Communication in ...|       Lifestyle|      4.2|          20|   10000|           10000| TRUE|    0|     USD| 6.7|            4.4|          Teen|        TRUE|           FALSE|        FALSE|      5|\n",
            "|SMOOTH PICK UP LINES|          Dating|        4|           8|    5000|            5000| TRUE|    0|     USD| 7.2|            4.4|          Teen|        TRUE|           FALSE|        FALSE|      2|\n",
            "+--------------------+----------------+---------+------------+--------+----------------+-----+-----+--------+----+---------------+--------------+------------+----------------+-------------+-------+\n",
            "only showing top 20 rows\n",
            "\n"
          ]
        }
      ]
    },
    {
      "cell_type": "markdown",
      "source": [
        "**Remove rows with \"N/A\"**"
      ],
      "metadata": {
        "id": "aSmf43X4-BL1"
      }
    },
    {
      "cell_type": "code",
      "source": [
        "from pyspark.sql.functions import col\n",
        "\n",
        "# Assuming 'data_regexp_replace2' is your PySpark DataFrame\n",
        "data_remove_nan = data_regexp_replace2\n",
        "\n",
        "# Iterate through all columns and remove rows with \"N/A\"\n",
        "for column_name in data_remove_nan.columns:\n",
        "    data_remove_nan = data_remove_nan.filter((col(column_name) != \"N/A\") & (col(column_name) != \" N/A\"))"
      ],
      "metadata": {
        "id": "qBvTQk6Ie921"
      },
      "execution_count": null,
      "outputs": []
    },
    {
      "cell_type": "code",
      "source": [
        "data_remove_nan.show()"
      ],
      "metadata": {
        "colab": {
          "base_uri": "https://localhost:8080/"
        },
        "id": "Lb7FSbLGgETE",
        "outputId": "05be4ed4-6494-44ef-f542-edb2520a4ee4"
      },
      "execution_count": null,
      "outputs": [
        {
          "output_type": "stream",
          "name": "stdout",
          "text": [
            "+--------------------+----------------+---------+------------+--------+----------------+----+-----+--------+----+---------------+--------------+------------+----------------+-------------+-------+\n",
            "|            App Name|        Category|   Rating|Rating Count|Installs|Minimum Installs|Free|Price|Currency|Size|Minimum Android|Content Rating|Ad Supported|In app purchases|Editor Choice|Reviews|\n",
            "+--------------------+----------------+---------+------------+--------+----------------+----+-----+--------+----+---------------+--------------+------------+----------------+-------------+-------+\n",
            "|Logistics Management|       Education| 4.090909|          66|   10000|           10000|TRUE|    0|     USD| 5.8|              4|      Everyone|        TRUE|           FALSE|        FALSE|     28|\n",
            "|    Dental Assistant|       Education|3.8666666|          15|   10000|           10000|TRUE|    0|     USD| 5.7|              4|      Everyone|        TRUE|           FALSE|        FALSE|      3|\n",
            "|   Medical Assistant|       Education|        4|          18|    5000|            5000|TRUE|    0|     USD| 5.8|              4|      Everyone|        TRUE|           FALSE|        FALSE|      7|\n",
            "|Business Administ...|       Education| 4.023256|          86|   50000|           50000|TRUE|    0|     USD| 5.7|              4|      Everyone|        TRUE|           FALSE|        FALSE|     29|\n",
            "|           Economics|       Education|4.1386137|         223|  100000|          100000|TRUE|    0|     USD| 5.9|              4|      Everyone|        TRUE|           FALSE|        FALSE|     82|\n",
            "|         Cosmetology|       Education|2.4210527|          19|    5000|            5000|TRUE|    0|     USD| 5.7|              4|      Everyone|        TRUE|           FALSE|        FALSE|     12|\n",
            "|  Quality Management|       Education|4.3333335|           6|    5000|            5000|TRUE|    0|     USD| 5.6|              4|      Everyone|        TRUE|           FALSE|        FALSE|      2|\n",
            "|  Tourism Management|       Education| 4.730769|          26|   10000|           10000|TRUE|    0|     USD| 5.9|              4|      Everyone|        TRUE|           FALSE|        FALSE|      8|\n",
            "|Early Learning Ap...|       Education| 4.271845|         846|  500000|          500000|TRUE|    0|     USD|  27|            4.1|      Everyone|        TRUE|            TRUE|        FALSE|    502|\n",
            "|Early Learning Ap...|       Education|4.3849316|        7214| 1000000|         1000000|TRUE|    0|     USD| 8.9|              5|      Everyone|        TRUE|           FALSE|        FALSE|   1624|\n",
            "|   Desert Runner Boy|       Adventure|4.5882354|         111|   10000|           10000|TRUE|    0|     USD| 6.8|            4.1|      Everyone|        TRUE|           FALSE|        FALSE|     70|\n",
            "|Kids Word Games: ...|     Educational|        5|           6|    1000|            1000|TRUE|    0|     USD|  13|            4.1|      Everyone|        TRUE|           FALSE|        FALSE|      2|\n",
            "|Word Link: Word C...|     Educational|4.5882354|          17|    1000|            1000|TRUE|    0|     USD|  19|            4.1|      Everyone|        TRUE|            TRUE|        FALSE|      8|\n",
            "|Best Time to Get ...|Health & Fitness|4.0526314|          38|   50000|           50000|TRUE|    0|     USD| 6.5|              5|          Teen|        TRUE|           FALSE|        FALSE|     10|\n",
            "|Communication in ...|       Lifestyle|      4.2|          20|   10000|           10000|TRUE|    0|     USD| 6.7|            4.4|          Teen|        TRUE|           FALSE|        FALSE|      5|\n",
            "|SMOOTH PICK UP LINES|          Dating|        4|           8|    5000|            5000|TRUE|    0|     USD| 7.2|            4.4|          Teen|        TRUE|           FALSE|        FALSE|      2|\n",
            "|How to Conceive a...|Health & Fitness|      2.5|           8|   10000|           10000|TRUE|    0|     USD| 6.8|            4.4|          Teen|        TRUE|           FALSE|        FALSE|      2|\n",
            "|EARLY CHILDHOOD E...|       Education| 4.285714|          21|   10000|           10000|TRUE|    0|     USD| 6.8|              5|          Teen|        TRUE|           FALSE|        FALSE|     12|\n",
            "|Sorting 3: early ...|     Educational| 3.857143|           7|    5000|            5000|TRUE|    0|     USD|  24|            4.1|      Everyone|        TRUE|            TRUE|        FALSE|      0|\n",
            "|Sorting puzzles 2...|     Educational| 3.967742|          31|   10000|           10000|TRUE|    0|     USD|  23|            4.1|      Everyone|        TRUE|            TRUE|        FALSE|      8|\n",
            "+--------------------+----------------+---------+------------+--------+----------------+----+-----+--------+----+---------------+--------------+------------+----------------+-------------+-------+\n",
            "only showing top 20 rows\n",
            "\n"
          ]
        }
      ]
    },
    {
      "cell_type": "markdown",
      "source": [
        "**Show the counts of \"N/A\" in each column**"
      ],
      "metadata": {
        "id": "uNV1OPph-IXV"
      }
    },
    {
      "cell_type": "code",
      "source": [
        "from pyspark.sql.functions import col, sum, when\n",
        "\n",
        "# Assuming 'data_remove_nan' is your PySpark DataFrame\n",
        "na_counts = data_remove_nan.select([sum(when(col(c) == \"N/A\", 1).otherwise(0)).alias(c) for c in data_remove_nan.columns])\n",
        "\n",
        "# Display the counts of \"N/A\" in each column\n",
        "na_counts.show()\n"
      ],
      "metadata": {
        "colab": {
          "base_uri": "https://localhost:8080/"
        },
        "id": "a7ojX1sYeCee",
        "outputId": "09966686-e9d2-411a-c356-fcdfe43bc289"
      },
      "execution_count": null,
      "outputs": [
        {
          "output_type": "stream",
          "name": "stdout",
          "text": [
            "+--------+--------+------+------------+--------+----------------+----+-----+--------+----+---------------+--------------+------------+----------------+-------------+-------+\n",
            "|App Name|Category|Rating|Rating Count|Installs|Minimum Installs|Free|Price|Currency|Size|Minimum Android|Content Rating|Ad Supported|In app purchases|Editor Choice|Reviews|\n",
            "+--------+--------+------+------------+--------+----------------+----+-----+--------+----+---------------+--------------+------------+----------------+-------------+-------+\n",
            "|       0|       0|     0|           0|       0|               0|   0|    0|       0|   0|              0|             0|           0|               0|            0|      0|\n",
            "+--------+--------+------+------------+--------+----------------+----+-----+--------+----+---------------+--------------+------------+----------------+-------------+-------+\n",
            "\n"
          ]
        }
      ]
    },
    {
      "cell_type": "markdown",
      "source": [
        "# **Label Encoding Categorical Columns**"
      ],
      "metadata": {
        "id": "4Y5tg5_A-XJF"
      }
    },
    {
      "cell_type": "code",
      "source": [
        "from pyspark.ml.feature import StringIndexer\n",
        "from pyspark.ml import Pipeline\n",
        "from pyspark.sql.functions import col\n",
        "\n",
        "# List of categorical columns to encode\n",
        "categorical_cols = [\"Category\", \"Free\", \"Content Rating\", \"Ad Supported\", \"In app purchases\", \"Editor Choice\",\"Currency\"]\n",
        "\n",
        "# Initialize a Pipeline for encoding\n",
        "stages = []\n",
        "\n",
        "# Create a dictionary to store the original and new column names\n",
        "column_name_mapping = {}\n",
        "\n",
        "# Apply StringIndexer to each categorical column\n",
        "for col_name in categorical_cols:\n",
        "    # Define the new column name with \"_index\" suffix\n",
        "    new_col_name = f\"{col_name}_index\"\n",
        "    column_name_mapping[col_name] = new_col_name\n",
        "\n",
        "    indexer = StringIndexer(inputCol=col_name, outputCol=new_col_name)\n",
        "    stages.append(indexer)\n",
        "\n",
        "# Assemble all stages into a pipeline\n",
        "pipeline = Pipeline(stages=stages)\n",
        "\n",
        "# Fit and transform the pipeline on your DataFrame\n",
        "data_encoded = pipeline.fit(data_remove_nan).transform(data_remove_nan)\n",
        "\n",
        "# Drop the original columns and keep the updated ones\n",
        "columns_to_drop = categorical_cols\n",
        "data_encoded = data_encoded.drop(*columns_to_drop)\n",
        "\n",
        "# Show the resulting DataFrame with label-encoded columns\n",
        "data_encoded.show()\n"
      ],
      "metadata": {
        "colab": {
          "base_uri": "https://localhost:8080/"
        },
        "id": "w9zTGC7JsOaQ",
        "outputId": "858faa35-5c74-4957-f124-d9e55e316025"
      },
      "execution_count": null,
      "outputs": [
        {
          "output_type": "stream",
          "name": "stdout",
          "text": [
            "+--------------------+---------+------------+--------+----------------+-----+----+---------------+-------+--------------+----------+--------------------+------------------+----------------------+-------------------+--------------+\n",
            "|            App Name|   Rating|Rating Count|Installs|Minimum Installs|Price|Size|Minimum Android|Reviews|Category_index|Free_index|Content Rating_index|Ad Supported_index|In app purchases_index|Editor Choice_index|Currency_index|\n",
            "+--------------------+---------+------------+--------+----------------+-----+----+---------------+-------+--------------+----------+--------------------+------------------+----------------------+-------------------+--------------+\n",
            "|Logistics Management| 4.090909|          66|   10000|           10000|    0| 5.8|              4|     28|           0.0|       0.0|                 0.0|               0.0|                   0.0|                0.0|           0.0|\n",
            "|    Dental Assistant|3.8666666|          15|   10000|           10000|    0| 5.7|              4|      3|           0.0|       0.0|                 0.0|               0.0|                   0.0|                0.0|           0.0|\n",
            "|   Medical Assistant|        4|          18|    5000|            5000|    0| 5.8|              4|      7|           0.0|       0.0|                 0.0|               0.0|                   0.0|                0.0|           0.0|\n",
            "|Business Administ...| 4.023256|          86|   50000|           50000|    0| 5.7|              4|     29|           0.0|       0.0|                 0.0|               0.0|                   0.0|                0.0|           0.0|\n",
            "|           Economics|4.1386137|         223|  100000|          100000|    0| 5.9|              4|     82|           0.0|       0.0|                 0.0|               0.0|                   0.0|                0.0|           0.0|\n",
            "|         Cosmetology|2.4210527|          19|    5000|            5000|    0| 5.7|              4|     12|           0.0|       0.0|                 0.0|               0.0|                   0.0|                0.0|           0.0|\n",
            "|  Quality Management|4.3333335|           6|    5000|            5000|    0| 5.6|              4|      2|           0.0|       0.0|                 0.0|               0.0|                   0.0|                0.0|           0.0|\n",
            "|  Tourism Management| 4.730769|          26|   10000|           10000|    0| 5.9|              4|      8|           0.0|       0.0|                 0.0|               0.0|                   0.0|                0.0|           0.0|\n",
            "|Early Learning Ap...| 4.271845|         846|  500000|          500000|    0|  27|            4.1|    502|           0.0|       0.0|                 0.0|               0.0|                   1.0|                0.0|           0.0|\n",
            "|Early Learning Ap...|4.3849316|        7214| 1000000|         1000000|    0| 8.9|              5|   1624|           0.0|       0.0|                 0.0|               0.0|                   0.0|                0.0|           0.0|\n",
            "|   Desert Runner Boy|4.5882354|         111|   10000|           10000|    0| 6.8|            4.1|     70|          17.0|       0.0|                 0.0|               0.0|                   0.0|                0.0|           0.0|\n",
            "|Kids Word Games: ...|        5|           6|    1000|            1000|    0|  13|            4.1|      2|          18.0|       0.0|                 0.0|               0.0|                   0.0|                0.0|           0.0|\n",
            "|Word Link: Word C...|4.5882354|          17|    1000|            1000|    0|  19|            4.1|      8|          18.0|       0.0|                 0.0|               0.0|                   1.0|                0.0|           0.0|\n",
            "|Best Time to Get ...|4.0526314|          38|   50000|           50000|    0| 6.5|              5|     10|          16.0|       0.0|                 1.0|               0.0|                   0.0|                0.0|           0.0|\n",
            "|Communication in ...|      4.2|          20|   10000|           10000|    0| 6.7|            4.4|      5|           7.0|       0.0|                 1.0|               0.0|                   0.0|                0.0|           0.0|\n",
            "|SMOOTH PICK UP LINES|        4|           8|    5000|            5000|    0| 7.2|            4.4|      2|          41.0|       0.0|                 1.0|               0.0|                   0.0|                0.0|           0.0|\n",
            "|How to Conceive a...|      2.5|           8|   10000|           10000|    0| 6.8|            4.4|      2|          16.0|       0.0|                 1.0|               0.0|                   0.0|                0.0|           0.0|\n",
            "|EARLY CHILDHOOD E...| 4.285714|          21|   10000|           10000|    0| 6.8|              5|     12|           0.0|       0.0|                 1.0|               0.0|                   0.0|                0.0|           0.0|\n",
            "|Sorting 3: early ...| 3.857143|           7|    5000|            5000|    0|  24|            4.1|      0|          18.0|       0.0|                 0.0|               0.0|                   1.0|                0.0|           0.0|\n",
            "|Sorting puzzles 2...| 3.967742|          31|   10000|           10000|    0|  23|            4.1|      8|          18.0|       0.0|                 0.0|               0.0|                   1.0|                0.0|           0.0|\n",
            "+--------------------+---------+------------+--------+----------------+-----+----+---------------+-------+--------------+----------+--------------------+------------------+----------------------+-------------------+--------------+\n",
            "only showing top 20 rows\n",
            "\n"
          ]
        }
      ]
    },
    {
      "cell_type": "markdown",
      "source": [
        "**Check null value before Imputing Missing Values with Mean**"
      ],
      "metadata": {
        "id": "3wkyz6p90avq"
      }
    },
    {
      "cell_type": "code",
      "source": [
        "#null value count each column\n",
        "for column in data_encoded.columns:\n",
        "    null_count = data_encoded.filter(col(column).isNull()).count()\n",
        "    print(f\"Column '{column}': {null_count} null values\")\n"
      ],
      "metadata": {
        "colab": {
          "base_uri": "https://localhost:8080/"
        },
        "id": "moPQUMWiynKp",
        "outputId": "afdf2a99-fa0f-4e56-d9a2-6d6c31493a04"
      },
      "execution_count": null,
      "outputs": [
        {
          "output_type": "stream",
          "name": "stdout",
          "text": [
            "Column 'App Name': 0 null values\n",
            "Column 'Rating': 0 null values\n",
            "Column 'Rating Count': 0 null values\n",
            "Column 'Installs': 0 null values\n",
            "Column 'Minimum Installs': 0 null values\n",
            "Column 'Price': 0 null values\n",
            "Column 'Size': 0 null values\n",
            "Column 'Minimum Android': 0 null values\n",
            "Column 'Reviews': 0 null values\n",
            "Column 'Category_index': 0 null values\n",
            "Column 'Free_index': 0 null values\n",
            "Column 'Content Rating_index': 0 null values\n",
            "Column 'Ad Supported_index': 0 null values\n",
            "Column 'In app purchases_index': 0 null values\n",
            "Column 'Editor Choice_index': 0 null values\n",
            "Column 'Currency_index': 0 null values\n"
          ]
        }
      ]
    },
    {
      "cell_type": "code",
      "source": [
        "data_encoded.printSchema()"
      ],
      "metadata": {
        "colab": {
          "base_uri": "https://localhost:8080/"
        },
        "id": "DswC-5YIA8w5",
        "outputId": "a61f1f77-f017-415d-9c4e-520ffad1baa6"
      },
      "execution_count": null,
      "outputs": [
        {
          "output_type": "stream",
          "name": "stdout",
          "text": [
            "root\n",
            " |-- App Name: string (nullable = true)\n",
            " |-- Rating: string (nullable = true)\n",
            " |-- Rating Count: string (nullable = true)\n",
            " |-- Installs: string (nullable = true)\n",
            " |-- Minimum Installs: string (nullable = true)\n",
            " |-- Price: string (nullable = true)\n",
            " |-- Size: string (nullable = true)\n",
            " |-- Minimum Android: string (nullable = true)\n",
            " |-- Reviews: string (nullable = true)\n",
            " |-- Category_index: double (nullable = false)\n",
            " |-- Free_index: double (nullable = false)\n",
            " |-- Content Rating_index: double (nullable = false)\n",
            " |-- Ad Supported_index: double (nullable = false)\n",
            " |-- In app purchases_index: double (nullable = false)\n",
            " |-- Editor Choice_index: double (nullable = false)\n",
            " |-- Currency_index: double (nullable = false)\n",
            "\n"
          ]
        }
      ]
    },
    {
      "cell_type": "markdown",
      "source": [
        "**Covert the columns to Double**"
      ],
      "metadata": {
        "id": "tH5kT9EWBkKY"
      }
    },
    {
      "cell_type": "code",
      "source": [
        "from pyspark.sql.functions import col\n",
        "\n",
        "# List of columns to convert to DoubleType\n",
        "columns_to_convert = [\"Rating\", \"Rating Count\", \"Installs\", \"Minimum Installs\", \"Price\", \"Size\", \"Minimum Android\", \"Reviews\"]\n",
        "\n",
        "# Convert the columns to DoubleType\n",
        "for column_name in columns_to_convert:\n",
        "    data_encoded = data_encoded.withColumn(column_name, col(column_name).cast(\"double\"))\n",
        "\n",
        "# Show the updated schema of the DataFrame\n",
        "data_encoded.printSchema()\n"
      ],
      "metadata": {
        "colab": {
          "base_uri": "https://localhost:8080/"
        },
        "id": "JrSP1LapBhcA",
        "outputId": "ff318ffa-1817-4c7e-ce5d-fc8a7cdc192a"
      },
      "execution_count": null,
      "outputs": [
        {
          "output_type": "stream",
          "name": "stdout",
          "text": [
            "root\n",
            " |-- App Name: string (nullable = true)\n",
            " |-- Rating: double (nullable = true)\n",
            " |-- Rating Count: double (nullable = true)\n",
            " |-- Installs: double (nullable = true)\n",
            " |-- Minimum Installs: double (nullable = true)\n",
            " |-- Price: double (nullable = true)\n",
            " |-- Size: double (nullable = true)\n",
            " |-- Minimum Android: double (nullable = true)\n",
            " |-- Reviews: double (nullable = true)\n",
            " |-- Category_index: double (nullable = false)\n",
            " |-- Free_index: double (nullable = false)\n",
            " |-- Content Rating_index: double (nullable = false)\n",
            " |-- Ad Supported_index: double (nullable = false)\n",
            " |-- In app purchases_index: double (nullable = false)\n",
            " |-- Editor Choice_index: double (nullable = false)\n",
            " |-- Currency_index: double (nullable = false)\n",
            "\n"
          ]
        }
      ]
    },
    {
      "cell_type": "markdown",
      "source": [
        "**Imputing Missing Values with Mean**"
      ],
      "metadata": {
        "id": "JEwfU9FC0TP6"
      }
    },
    {
      "cell_type": "code",
      "source": [
        "from pyspark.ml.feature import Imputer\n",
        "\n",
        "# Define a list of columns with missing values that you want to impute\n",
        "columns_with_null = [\"Rating\", \"Rating Count\", \"Installs\", \"Minimum Installs\", \"Price\", \"Reviews\"]\n",
        "\n",
        "# Initialize Imputer to replace null values with mean for specified columns\n",
        "imputer = Imputer(strategy=\"mean\", inputCols=columns_with_null, outputCols=columns_with_null)\n",
        "\n",
        "# Fit and transform the imputer on the data\n",
        "data_imputed = imputer.fit(data_encoded).transform(data_encoded)\n",
        "\n",
        "# The 'data_imputed' DataFrame now contains imputed values for missing data, and column names remain the same.\n"
      ],
      "metadata": {
        "id": "_sAvTKKly6c1"
      },
      "execution_count": null,
      "outputs": []
    },
    {
      "cell_type": "code",
      "source": [
        "#null value count each column\n",
        "for column in data_imputed.columns:\n",
        "    null_count = data_imputed.filter(col(column).isNull()).count()\n",
        "    print(f\"Column '{column}': {null_count} null values\")\n"
      ],
      "metadata": {
        "colab": {
          "base_uri": "https://localhost:8080/"
        },
        "id": "0gGdKo9-zmIC",
        "outputId": "3fdd9141-39c1-4d78-b9ff-eae9e927edb5"
      },
      "execution_count": null,
      "outputs": [
        {
          "output_type": "stream",
          "name": "stdout",
          "text": [
            "Column 'App Name': 0 null values\n",
            "Column 'Rating': 0 null values\n",
            "Column 'Rating Count': 0 null values\n",
            "Column 'Installs': 0 null values\n",
            "Column 'Minimum Installs': 0 null values\n",
            "Column 'Price': 0 null values\n",
            "Column 'Size': 10937 null values\n",
            "Column 'Minimum Android': 23296 null values\n",
            "Column 'Reviews': 0 null values\n",
            "Column 'Category_index': 0 null values\n",
            "Column 'Free_index': 0 null values\n",
            "Column 'Content Rating_index': 0 null values\n",
            "Column 'Ad Supported_index': 0 null values\n",
            "Column 'In app purchases_index': 0 null values\n",
            "Column 'Editor Choice_index': 0 null values\n",
            "Column 'Currency_index': 0 null values\n"
          ]
        }
      ]
    },
    {
      "cell_type": "code",
      "source": [
        "data_imputed.printSchema()"
      ],
      "metadata": {
        "colab": {
          "base_uri": "https://localhost:8080/"
        },
        "id": "cDQ77lTg1WOt",
        "outputId": "d98c8958-68b0-41eb-ba66-240beff1b794"
      },
      "execution_count": null,
      "outputs": [
        {
          "output_type": "stream",
          "name": "stdout",
          "text": [
            "root\n",
            " |-- App Name: string (nullable = true)\n",
            " |-- Rating: double (nullable = true)\n",
            " |-- Rating Count: double (nullable = true)\n",
            " |-- Installs: double (nullable = true)\n",
            " |-- Minimum Installs: double (nullable = true)\n",
            " |-- Price: double (nullable = true)\n",
            " |-- Size: double (nullable = true)\n",
            " |-- Minimum Android: double (nullable = true)\n",
            " |-- Reviews: double (nullable = true)\n",
            " |-- Category_index: double (nullable = false)\n",
            " |-- Free_index: double (nullable = false)\n",
            " |-- Content Rating_index: double (nullable = false)\n",
            " |-- Ad Supported_index: double (nullable = false)\n",
            " |-- In app purchases_index: double (nullable = false)\n",
            " |-- Editor Choice_index: double (nullable = false)\n",
            " |-- Currency_index: double (nullable = false)\n",
            "\n"
          ]
        }
      ]
    },
    {
      "cell_type": "markdown",
      "source": [
        "# **Applying Linear Regression**"
      ],
      "metadata": {
        "id": "jjm6hQbyxIJK"
      }
    },
    {
      "cell_type": "markdown",
      "source": [
        "**Select Independent and Target Columns**"
      ],
      "metadata": {
        "id": "p8H5Rd4w1wCb"
      }
    },
    {
      "cell_type": "code",
      "source": [
        "# Define the independent feature columns\n",
        "independent_cols = [\n",
        "    \"Rating Count\",\n",
        "    \"Installs\",\n",
        "    \"Minimum Installs\",\n",
        "    \"Price\",\n",
        "    \"Size\",\n",
        "    \"Minimum Android\",\n",
        "    \"Reviews\",\n",
        "    \"Category_index\",\n",
        "    \"Free_index\",\n",
        "    \"Content Rating_index\",\n",
        "    \"Ad Supported_index\",\n",
        "    \"In app purchases_index\",\n",
        "    \"Editor Choice_index\",\n",
        "    \"Currency_index\"\n",
        "]\n",
        "\n",
        "# Define the target column\n",
        "target_col = \"Rating\"\n"
      ],
      "metadata": {
        "id": "rGeDr6-QxRuo"
      },
      "execution_count": null,
      "outputs": []
    },
    {
      "cell_type": "code",
      "source": [
        "data_imputed = data_imputed.dropna(subset=independent_cols + [target_col])\n"
      ],
      "metadata": {
        "id": "Mas9qXvF5skl"
      },
      "execution_count": null,
      "outputs": []
    },
    {
      "cell_type": "markdown",
      "source": [
        "**Create a Vector Assembler**"
      ],
      "metadata": {
        "id": "CmHZhNF4CM6g"
      }
    },
    {
      "cell_type": "code",
      "source": [
        "# Create a Vector Assembler to combine independent columns into a feature vector\n",
        "feature_assembler = VectorAssembler(inputCols=independent_cols, outputCol=\"Independent_Features\")\n",
        "output = feature_assembler.transform(data_imputed)\n"
      ],
      "metadata": {
        "id": "HPgLUpAO4A48"
      },
      "execution_count": null,
      "outputs": []
    },
    {
      "cell_type": "code",
      "source": [
        "# Select the feature vector and target column\n",
        "final_output = output.select(\"Independent_Features\", target_col)\n"
      ],
      "metadata": {
        "id": "DQ6fwnHc5Ljv"
      },
      "execution_count": null,
      "outputs": []
    },
    {
      "cell_type": "markdown",
      "source": [
        "**Split the data into training and testing sets**"
      ],
      "metadata": {
        "id": "gwFKPgQCCQ2P"
      }
    },
    {
      "cell_type": "code",
      "source": [
        "# Split the data into training and testing sets\n",
        "train_data, test_data = final_output.randomSplit([0.8, 0.2], seed=12345)\n"
      ],
      "metadata": {
        "id": "BzwUN1xS5PgN"
      },
      "execution_count": null,
      "outputs": []
    },
    {
      "cell_type": "code",
      "source": [
        "# Initialize the Linear Regression model\n",
        "regression_algorithm = LinearRegression(featuresCol=\"Independent_Features\", labelCol=target_col)\n"
      ],
      "metadata": {
        "id": "2gOH0ICa5ShE"
      },
      "execution_count": null,
      "outputs": []
    },
    {
      "cell_type": "markdown",
      "source": [
        "**Fit the model to the training data**"
      ],
      "metadata": {
        "id": "zB54p3GECWVn"
      }
    },
    {
      "cell_type": "code",
      "source": [
        "# Fit the model to the training data\n",
        "regression_model = regression_algorithm.fit(train_data)\n"
      ],
      "metadata": {
        "id": "JDUuOdpz5Ufy"
      },
      "execution_count": null,
      "outputs": []
    },
    {
      "cell_type": "markdown",
      "source": [
        "**See the coefficients and intercept**"
      ],
      "metadata": {
        "id": "HALego64Ce7X"
      }
    },
    {
      "cell_type": "code",
      "source": [
        "# Access the model coefficients and intercept\n",
        "coefficients = regression_model.coefficients\n",
        "intercept = regression_model.intercept\n"
      ],
      "metadata": {
        "id": "M5GQhTEw588G"
      },
      "execution_count": null,
      "outputs": []
    },
    {
      "cell_type": "code",
      "source": [
        "#show the coefficients and intercept\n",
        "print(\"Coefficients: \" + str(coefficients))"
      ],
      "metadata": {
        "colab": {
          "base_uri": "https://localhost:8080/"
        },
        "id": "Y-eiol4gCimV",
        "outputId": "668fab96-21b0-4890-ab71-1d4d61697197"
      },
      "execution_count": null,
      "outputs": [
        {
          "output_type": "stream",
          "name": "stdout",
          "text": [
            "Coefficients: [1.0019529502596373e-07,-2.0316277328000334e-10,-2.0316277328000334e-10,-0.0006193485231581268,7.041697540319723e-05,0.02851616489910707,-1.2464742473050257e-07,-0.006190436253619568,-0.009618650586208049,-0.01806516191774634,0.0,0.02790753166843399,0.1806734619808791,0.027858980477251456]\n"
          ]
        }
      ]
    },
    {
      "cell_type": "markdown",
      "source": [
        "**predictions on the test data**"
      ],
      "metadata": {
        "id": "1PKoGLl4CtXu"
      }
    },
    {
      "cell_type": "code",
      "source": [
        "# Make predictions on the test data\n",
        "predict_result = regression_model.transform(test_data)\n"
      ],
      "metadata": {
        "id": "iqIh35dK6KDT"
      },
      "execution_count": null,
      "outputs": []
    },
    {
      "cell_type": "markdown",
      "source": [
        "**Show the predictions**"
      ],
      "metadata": {
        "id": "DK9lRkv-Cw0v"
      }
    },
    {
      "cell_type": "code",
      "source": [
        "# Show the predictions\n",
        "predict_result.select(\"Independent_Features\", target_col, \"prediction\").show()\n"
      ],
      "metadata": {
        "colab": {
          "base_uri": "https://localhost:8080/"
        },
        "id": "oIA9d7lb6L-Z",
        "outputId": "9d252ae8-c2d5-4238-f4d9-5ef462337e2e"
      },
      "execution_count": null,
      "outputs": [
        {
          "output_type": "stream",
          "name": "stdout",
          "text": [
            "+--------------------+---------+------------------+\n",
            "|Independent_Features|   Rating|        prediction|\n",
            "+--------------------+---------+------------------+\n",
            "|(14,[0,1,2,3,4,5,...|      4.5|  4.15922960340566|\n",
            "|(14,[0,1,2,3,4,5,...|     3.36| 4.171236221633009|\n",
            "|(14,[0,1,2,3,4,5,...|      3.7| 4.161988279658477|\n",
            "|(14,[0,1,2,3,4,5,...|4.3366337| 4.173640820026883|\n",
            "|(14,[0,1,2,3,4,5,...|4.2954545| 4.172188730156745|\n",
            "|(14,[0,1,2,3,4,5,...|4.3989525| 4.172761751674257|\n",
            "|(14,[0,1,2,3,4,5,...|      4.8|4.0542581764049865|\n",
            "|(14,[0,1,2,4,5],[...|      4.2| 4.182561399552659|\n",
            "|(14,[0,1,2,4,5,6]...|      4.2| 4.172668619300984|\n",
            "|(14,[0,1,2,4,5,6]...|      4.2| 4.175583486421332|\n",
            "|(14,[0,1,2,4,5,6]...|      4.0|  4.19843866852586|\n",
            "|(14,[0,1,2,4,5,6]...|      4.6| 4.173443081382994|\n",
            "|(14,[0,1,2,4,5,6]...|      4.4| 4.175837632488977|\n",
            "|(14,[0,1,2,4,5,6]...|      4.8|  4.14125830054908|\n",
            "|(14,[0,1,2,4,5,6]...|      4.6| 4.175583448538538|\n",
            "|(14,[0,1,2,4,5,6]...|      5.0| 4.172767040536329|\n",
            "|(14,[0,1,2,4,5,6]...|      3.8| 4.198438755290491|\n",
            "|(14,[0,1,2,4,5,6]...|      5.0| 4.198487922525849|\n",
            "|(14,[0,1,2,4,5,6]...|      4.4|4.1815049741421095|\n",
            "|(14,[0,1,2,4,5,6]...|      4.4|4.1986923810493675|\n",
            "+--------------------+---------+------------------+\n",
            "only showing top 20 rows\n",
            "\n"
          ]
        }
      ]
    }
  ],
  "metadata": {
    "colab": {
      "provenance": [],
      "gpuType": "T4"
    },
    "kernelspec": {
      "display_name": "Python 3",
      "name": "python3"
    },
    "language_info": {
      "name": "python"
    },
    "accelerator": "GPU"
  },
  "nbformat": 4,
  "nbformat_minor": 0
}